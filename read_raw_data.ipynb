{
 "cells": [
  {
   "cell_type": "code",
   "execution_count": 1,
   "metadata": {},
   "outputs": [],
   "source": [
    "#看看能不能改\n",
    "import pandas as pd\n",
    "import numpy as np\n",
    "from pandas_profiling import ProfileReport"
   ]
  },
  {
   "cell_type": "code",
   "execution_count": 2,
   "metadata": {},
   "outputs": [],
   "source": [
    "def check_base_info(input_path, filename, output_path, minimal=False):\n",
    "    df = pd.read_csv(input_path + filename + '.csv',  engine = 'python')\n",
    "    col_names = df.columns.to_series()\n",
    "    col_dtypes = df.dtypes\n",
    "    col_na_count = df.isnull().sum()\n",
    "    col_describe = df.describe().T\n",
    "    col_unique = df.nunique()\n",
    "\n",
    "    base_info = pd.concat([col_names, col_dtypes, col_na_count, col_unique], \n",
    "                          axis=1, keys=['col_names', 'col_dtypes', \n",
    "                                        'col_na_count', 'col_unique'], sort=False)\n",
    "    base_info = pd.concat([base_info, col_describe], axis=1, sort=False)\n",
    "\n",
    "    base_info.to_csv(output_path + filename + 'base_info.csv')\n",
    "    \n",
    "    df_report = ProfileReport(df, minimal=minimal)\n",
    "    df_report.to_file(output_file = output_path + filename + '.html')"
   ]
  },
  {
   "cell_type": "code",
   "execution_count": 3,
   "metadata": {},
   "outputs": [],
   "source": [
    "input_path_mdata = f'./input/rawdata/MDataFiles_Stage1/'\n",
    "input_path_mevents = f'./input/rawdata/'\n",
    "output_path = f'./output/'\n",
    "\n",
    "filename_mdata = [\n",
    " 'MTeamSpellings',\n",
    " 'Cities',\n",
    " 'Conferences',\n",
    " 'MConferenceTourneyGames',\n",
    " 'MGameCities',\n",
    " 'MMasseyOrdinals',\n",
    " 'MNCAATourneyCompactResults',\n",
    " 'MNCAATourneyDetailedResults',\n",
    " 'MNCAATourneySeedRoundSlots',\n",
    " 'MNCAATourneySeeds',\n",
    " 'MNCAATourneySlots',\n",
    " 'MRegularSeasonCompactResults',\n",
    " 'MRegularSeasonDetailedResults',\n",
    " 'MSeasons',\n",
    " 'MSecondaryTourneyCompactResults',\n",
    " 'MSecondaryTourneyTeams',\n",
    " 'MTeamCoaches',\n",
    " 'MTeamConferences',\n",
    " 'MTeams'\n",
    "]\n",
    "\n",
    "filename_mevents = [\n",
    " 'MSampleSubmissionStage1_2020',\n",
    " 'MEvents2015',\n",
    " 'MEvents2016',\n",
    " 'MEvents2017',\n",
    " 'MEvents2018',\n",
    " 'MEvents2019',\n",
    " 'MPlayers'\n",
    "]"
   ]
  },
  {
   "cell_type": "code",
   "execution_count": 4,
   "metadata": {},
   "outputs": [],
   "source": [
    "for filename in filename_mdata:\n",
    "    check_base_info(input_path_mdata, filename, output_path)\n",
    "for filename in filename_mevents:\n",
    "    check_base_info(input_path_mevents, filename,output_path, minimal=True)"
   ]
  },
  {
   "cell_type": "code",
   "execution_count": null,
   "metadata": {},
   "outputs": [],
   "source": []
  }
 ],
 "metadata": {
  "kernelspec": {
   "display_name": "Python 3",
   "language": "python",
   "name": "python3"
  },
  "language_info": {
   "codemirror_mode": {
    "name": "ipython",
    "version": 3
   },
   "file_extension": ".py",
   "mimetype": "text/x-python",
   "name": "python",
   "nbconvert_exporter": "python",
   "pygments_lexer": "ipython3",
   "version": "3.7.4"
  }
 },
 "nbformat": 4,
 "nbformat_minor": 2
}
