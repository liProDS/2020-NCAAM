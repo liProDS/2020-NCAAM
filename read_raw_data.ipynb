{
 "cells": [
  {
   "cell_type": "code",
   "execution_count": 1,
   "metadata": {},
   "outputs": [],
   "source": [
    "#看看能不能改\n",
    "import pandas as pd\n",
    "import numpy as np\n",
    "from pandas_profiling import ProfileReport"
   ]
  },
  {
   "cell_type": "code",
   "execution_count": 2,
   "metadata": {},
   "outputs": [],
   "source": [
    "def check_base_info(input_path, filename, output_path):\n",
    "    df = pd.read_csv(input_path + filename,  engine = 'python')\n",
    "    col_names = df.columns.to_series()\n",
    "    col_dtypes = df.dtypes\n",
    "    col_na_count = df.isnull().sum()\n",
    "    col_describe = df.describe().T\n",
    "    col_unique = df.nunique()\n",
    "\n",
    "    base_info = pd.concat([col_names, col_dtypes, col_na_count, col_unique], \n",
    "                          axis=1, keys=['col_names', 'col_dtypes', \n",
    "                                        'col_na_count', 'col_unique'], sort=False)\n",
    "    base_info = pd.concat([base_info, col_describe], axis=1, sort=False)\n",
    "\n",
    "    base_info.to_csv(output_path + filename + 'base_info.csv')\n",
    "    \n",
    "    df_report = ProfileReport(df)\n",
    "    df_report.to_file(output_file = output_path + filename + '.html')\n",
    "\n"
   ]
  },
  {
   "cell_type": "code",
   "execution_count": 3,
   "metadata": {},
   "outputs": [],
   "source": [
    "input_path_mdata = f'./input/rawdata/MDataFiles_Stage1/'\n",
    "input_path_mevents = f'./input/rawdata/'\n",
    "output_path = f'./output/'\n",
    "\n",
    "filename_mdata = [\n",
    " 'MTeamSpellings.csv',\n",
    " 'Cities.csv',\n",
    " 'Conferences.csv',\n",
    " 'MConferenceTourneyGames.csv',\n",
    " 'MGameCities.csv',\n",
    " 'MMasseyOrdinals.csv',\n",
    " 'MNCAATourneyCompactResults.csv',\n",
    " 'MNCAATourneyDetailedResults.csv',\n",
    " 'MNCAATourneySeedRoundSlots.csv',\n",
    " 'MNCAATourneySeeds.csv',\n",
    " 'MNCAATourneySlots.csv',\n",
    " 'MRegularSeasonCompactResults.csv',\n",
    " 'MRegularSeasonDetailedResults.csv',\n",
    " 'MSeasons.csv',\n",
    " 'MSecondaryTourneyCompactResults.csv',\n",
    " 'MSecondaryTourneyTeams.csv',\n",
    " 'MTeamCoaches.csv',\n",
    " 'MTeamConferences.csv',\n",
    " 'MTeams.csv'\n",
    "]\n",
    "\n",
    "filename_mevents = [\n",
    " 'MSampleSubmissionStage1_2020.csv',\n",
    " 'MEvents2015.csv',\n",
    " 'MEvents2016.csv',\n",
    " 'MEvents2017.csv',\n",
    " 'MEvents2018.csv',\n",
    " 'MEvents2019.csv',\n",
    " 'MPlayers.csv'\n",
    "]"
   ]
  },
  {
   "cell_type": "code",
   "execution_count": 4,
   "metadata": {},
   "outputs": [],
   "source": [
    "for filename in filename_mdata:\n",
    "    check_base_info(input_path_mdata, filename, output_path)"
   ]
  },
  {
   "cell_type": "code",
   "execution_count": null,
   "metadata": {},
   "outputs": [],
   "source": []
  }
 ],
 "metadata": {
  "kernelspec": {
   "display_name": "Python 3",
   "language": "python",
   "name": "python3"
  },
  "language_info": {
   "codemirror_mode": {
    "name": "ipython",
    "version": 3
   },
   "file_extension": ".py",
   "mimetype": "text/x-python",
   "name": "python",
   "nbconvert_exporter": "python",
   "pygments_lexer": "ipython3",
   "version": "3.7.3"
  }
 },
 "nbformat": 4,
 "nbformat_minor": 2
}
